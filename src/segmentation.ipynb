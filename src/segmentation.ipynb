{
 "cells": [
  {
   "cell_type": "code",
   "execution_count": 1,
   "id": "156cbe11",
   "metadata": {},
   "outputs": [],
   "source": [
    "import digits_model\n",
    "import cv2 as cv\n",
    "import numpy as np\n",
    "from matplotlib import pyplot as plt\n",
    "import tensorflow as tf\n",
    "import keras\n",
    "import keras.utils\n",
    "from keras.models import load_model\n",
    "from keras.models import Sequential\n",
    "from keras.layers import Dense, Flatten\n",
    "from keras.callbacks import TensorBoard\n",
    "from keras import backend\n",
    "import cv2 as cv\n",
    "%matplotlib inline"
   ]
  },
  {
   "cell_type": "code",
   "execution_count": 10,
   "id": "0a554bde",
   "metadata": {},
   "outputs": [
    {
     "name": "stdout",
     "output_type": "stream",
     "text": [
      "(89, 415, 3)\n",
      "(356, 2075, 3)\n"
     ]
    },
    {
     "data": {
      "text/plain": [
       "<matplotlib.image.AxesImage at 0x7f78d0623a90>"
      ]
     },
     "execution_count": 10,
     "metadata": {},
     "output_type": "execute_result"
    },
    {
     "data": {
      "image/png": "[encoded data removed]",
      "text/plain": [
       "<Figure size 432x288 with 1 Axes>"
      ]
     },
     "metadata": {
      "needs_background": "light"
     },
     "output_type": "display_data"
    }
   ],
   "source": [
    "image = cv.imread('ant.png')\n",
    "height, width, depth = image.shape\n",
    "print(image.shape)\n",
    "\n",
    "image = cv.resize(image, dsize=(width*5, height*4), interpolation=cv.INTER_CUBIC)\n",
    "print(image.shape)\n",
    "\n",
    "gray = cv.cvtColor(image,cv.COLOR_BGR2GRAY)\n",
    "ret,thresh = cv.threshold(gray,127,255,cv.THRESH_BINARY_INV)\n",
    "\n",
    "kernel = np.ones((5,5), np.uint8)\n",
    "img_dilation = cv.dilate(thresh, kernel, iterations=1)\n",
    "\n",
    "gsblur=cv.GaussianBlur(img_dilation,(5,5),0)\n",
    "\n",
    "ctrs, hier = cv.findContours(gsblur.copy(), cv.RETR_EXTERNAL, cv.CHAIN_APPROX_SIMPLE)\n",
    "m = list()\n",
    "#sort contours\n",
    "sorted_ctrs = sorted(ctrs, key=lambda ctr: cv.boundingRect(ctr)[0])\n",
    "pchl = list()\n",
    "dp = image.copy()\n",
    "for i, ctr in enumerate(sorted_ctrs):\n",
    "    # Get bounding box\n",
    "    x, y, w, h = cv.boundingRect(ctr)\n",
    "    cv.rectangle(dp,(x-10,y-10),( x + w + 10, y + h + 10 ),(90,0,255),9)\n",
    "plt.imshow(dp)"
   ]
  },
  {
   "cell_type": "code",
   "execution_count": 11,
   "id": "260341ee",
   "metadata": {},
   "outputs": [
    {
     "data": {
      "image/png": "[encoded data removed]",
      "text/plain": [
       "<Figure size 432x288 with 1 Axes>"
      ]
     },
     "metadata": {
      "needs_background": "light"
     },
     "output_type": "display_data"
    },
    {
     "name": "stdout",
     "output_type": "stream",
     "text": [
      "WARNING:tensorflow:5 out of the last 13 calls to <function Model.make_predict_function.<locals>.predict_function at 0x7f78d04d8160> triggered tf.function retracing. Tracing is expensive and the excessive number of tracings could be due to (1) creating @tf.function repeatedly in a loop, (2) passing tensors with different shapes, (3) passing Python objects instead of tensors. For (1), please define your @tf.function outside of the loop. For (2), @tf.function has experimental_relax_shapes=True option that relaxes argument shapes that can avoid unnecessary retracing. For (3), please refer to https://www.tensorflow.org/guide/function#controlling_retracing and https://www.tensorflow.org/api_docs/python/tf/function for  more details.\n",
      "1\n"
     ]
    },
    {
     "data": {
      "image/png": "[encoded data removed]",
      "text/plain": [
       "<Figure size 432x288 with 1 Axes>"
      ]
     },
     "metadata": {
      "needs_background": "light"
     },
     "output_type": "display_data"
    },
    {
     "name": "stdout",
     "output_type": "stream",
     "text": [
      "14\n"
     ]
    },
    {
     "data": {
      "image/png": "[encoded data removed]",
      "text/plain": [
       "<Figure size 432x288 with 1 Axes>"
      ]
     },
     "metadata": {
      "needs_background": "light"
     },
     "output_type": "display_data"
    },
    {
     "name": "stdout",
     "output_type": "stream",
     "text": [
      "20\n",
      "Predicted String:ant\n"
     ]
    }
   ],
   "source": [
    "model = tf.keras.models.load_model('digits_model')\n",
    "characters = '0abcdefghijklmnopqrstuvwxyz'\n",
    "prediction = list()\n",
    "predicted_word = ''\n",
    "\n",
    "for i, ctr in enumerate(sorted_ctrs):\n",
    "    # Get bounding box\n",
    "    x, y, w, h = cv.boundingRect(ctr)\n",
    "    # Getting ROI\n",
    "    roi = image[y-10:y+h+10, x-10:x+w+10]\n",
    "    roi = cv.resize(roi, dsize=(28,28), interpolation=cv.INTER_CUBIC)\n",
    "    roi = cv.cvtColor(roi,cv.COLOR_BGR2GRAY)\n",
    "    roi = cv.bitwise_not(roi)\n",
    "    plt.imshow(roi)\n",
    "    plt.show()\n",
    "    \n",
    "    roi = np.array(roi)\n",
    "    t = np.copy(roi)\n",
    "    t = t.reshape(1,784)\n",
    "    m.append(roi)\n",
    "    pred = model.predict(t)\n",
    "    pred = np.argmax(pred)\n",
    "    print(pred)\n",
    "    prediction.append(pred)\n",
    "    predicted_word += characters[pred]\n",
    "\n",
    "print(f'Predicted String:{predicted_word}')"
   ]
  },
  {
   "cell_type": "code",
   "execution_count": null,
   "id": "8cdfdac3",
   "metadata": {},
   "outputs": [],
   "source": []
  }
 ],
 "metadata": {
  "kernelspec": {
   "display_name": "Python 3",
   "language": "python",
   "name": "python3"
  },
  "language_info": {
   "codemirror_mode": {
    "name": "ipython",
    "version": 3
   },
   "file_extension": ".py",
   "mimetype": "text/x-python",
   "name": "python",
   "nbconvert_exporter": "python",
   "pygments_lexer": "ipython3",
   "version": "3.8.10"
  }
 },
 "nbformat": 4,
 "nbformat_minor": 5
}
