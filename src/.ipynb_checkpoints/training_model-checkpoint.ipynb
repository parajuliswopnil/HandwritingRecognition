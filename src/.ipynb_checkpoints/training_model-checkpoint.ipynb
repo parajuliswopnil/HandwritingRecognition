{
 "cells": [
  {
   "cell_type": "code",
   "execution_count": 1,
   "id": "a7571f43",
   "metadata": {},
   "outputs": [],
   "source": [
    "import gzip\n",
    "import matplotlib.pyplot as plt\n",
    "import numpy as np\n",
    "import struct\n",
    "import os\n",
    "import random\n",
    "import tensorflow as tf\n",
    "import keras\n",
    "import keras.utils\n",
    "from keras.models import load_model\n",
    "from keras.models import Sequential\n",
    "from keras.layers import Dense, Flatten\n",
    "from keras.callbacks import TensorBoard\n",
    "from keras import backend\n",
    "import cv2 as cv\n",
    "\n",
    "%matplotlib inline"
   ]
  },
  {
   "cell_type": "code",
   "execution_count": 2,
   "id": "360cb67a",
   "metadata": {},
   "outputs": [],
   "source": [
    "dataset_path = '/home/swopnil/PycharmProjects/HandwritingRecognition/gzip/'\n",
    "log_path = '/home/swopnil/PycharmProjects/HandwritingRecognition/logs/'"
   ]
  },
  {
   "cell_type": "code",
   "execution_count": 3,
   "id": "2ca9a595",
   "metadata": {},
   "outputs": [],
   "source": [
    "def read_idx(filename):\n",
    "    print(f'Processing data from {filename}.')\n",
    "    with gzip.open(filename, 'rb') as f:\n",
    "        z, dtype, dim = struct.unpack('>HBB', f.read(4))\n",
    "        print(f'Dimensions: {dim}')\n",
    "        shape = tuple(struct.unpack('>I', f.read(4))[0] for d in range(dim))\n",
    "        print(f'Shape: {shape}')\n",
    "        return np.frombuffer(f.read(), dtype=np.uint8).reshape(shape)"
   ]
  },
  {
   "cell_type": "code",
   "execution_count": 4,
   "id": "13ad85f5",
   "metadata": {},
   "outputs": [],
   "source": [
    "def load_emnist():\n",
    "    train_images = dataset_path + 'emnist-byclass-train-images-idx3-ubyte.gz'\n",
    "    train_labels = dataset_path + 'emnist-byclass-train-labels-idx1-ubyte.gz'\n",
    "    test_images = dataset_path + 'emnist-byclass-test-images-idx3-ubyte.gz'\n",
    "    test_labels = dataset_path + 'emnist-byclass-test-labels-idx1-ubyte.gz'\n",
    "    train_x = read_idx(train_images)\n",
    "    train_y = read_idx(train_labels)\n",
    "    test_x = read_idx(test_images)\n",
    "    test_y = read_idx(test_labels)\n",
    "    return (train_x, train_y, test_x, test_y)"
   ]
  },
  {
   "cell_type": "code",
   "execution_count": 5,
   "id": "a83abed7",
   "metadata": {},
   "outputs": [
    {
     "name": "stdout",
     "output_type": "stream",
     "text": [
      "Processing data from /home/swopnil/PycharmProjects/HandwritingRecognition/gzip/emnist-byclass-train-images-idx3-ubyte.gz.\n",
      "Dimensions: 3\n",
      "Shape: (697932, 28, 28)\n",
      "Processing data from /home/swopnil/PycharmProjects/HandwritingRecognition/gzip/emnist-byclass-train-labels-idx1-ubyte.gz.\n",
      "Dimensions: 1\n",
      "Shape: (697932,)\n",
      "Processing data from /home/swopnil/PycharmProjects/HandwritingRecognition/gzip/emnist-byclass-test-images-idx3-ubyte.gz.\n",
      "Dimensions: 3\n",
      "Shape: (116323, 28, 28)\n",
      "Processing data from /home/swopnil/PycharmProjects/HandwritingRecognition/gzip/emnist-byclass-test-labels-idx1-ubyte.gz.\n",
      "Dimensions: 1\n",
      "Shape: (116323,)\n"
     ]
    }
   ],
   "source": [
    "raw_train_x, raw_train_y, raw_test_x, raw_test_y = load_emnist()"
   ]
  },
  {
   "cell_type": "code",
   "execution_count": 6,
   "id": "35b984bc",
   "metadata": {},
   "outputs": [],
   "source": [
    "raw_train_x = np.array(raw_train_x)\n",
    "raw_train_y = np.array(raw_train_y)\n",
    "raw_test_x = np.array(raw_test_x)\n",
    "raw_test_y = np.array(raw_test_y)"
   ]
  },
  {
   "cell_type": "code",
   "execution_count": 22,
   "id": "cda5eca9",
   "metadata": {},
   "outputs": [
    {
     "name": "stdout",
     "output_type": "stream",
     "text": [
      "697932\n"
     ]
    }
   ],
   "source": [
    "train_x = raw_train_x.reshape(raw_train_x.shape[0], 28, 28)\n",
    "print(train_x.shape[0])\n",
    "test_x = raw_test_x.reshape(raw_test_x.shape[0], 28, 28)"
   ]
  },
  {
   "cell_type": "code",
   "execution_count": 13,
   "id": "f4a91d7e",
   "metadata": {},
   "outputs": [
    {
     "data": {
      "text/plain": [
       "<function matplotlib.pyplot.show(close=None, block=None)>"
      ]
     },
     "execution_count": 13,
     "metadata": {},
     "output_type": "execute_result"
    },
    {
     "data": {
      "image/png": "[encoded data removed]",
      "text/plain": [
       "<Figure size 432x288 with 1 Axes>"
      ]
     },
     "metadata": {
      "needs_background": "light"
     },
     "output_type": "display_data"
    }
   ],
   "source": [
    "%matplotlib inline\n",
    "plt.imshow(train_x[0], cmap='gray')\n",
    "plt.show"
   ]
  },
  {
   "cell_type": "code",
   "execution_count": 17,
   "id": "1d0fe4be",
   "metadata": {},
   "outputs": [
    {
     "name": "stdout",
     "output_type": "stream",
     "text": [
      "Process Complete: Rotated and reversed test and train images!\n"
     ]
    },
    {
     "data": {
      "image/png": "[encoded data removed]",
      "text/plain": [
       "<Figure size 432x288 with 1 Axes>"
      ]
     },
     "metadata": {
      "needs_background": "light"
     },
     "output_type": "display_data"
    }
   ],
   "source": [
    "#for train data\n",
    "for t in range(697932):\n",
    "    train_x[t]=np.transpose(train_x[t])\n",
    "    \n",
    "#checking\n",
    "plt.imshow(train_x[0])\n",
    "plt.show\n",
    "\n",
    "#for test data  \n",
    "for t in range(116323):\n",
    "    test_x[t]=np.transpose(test_x[t])\n",
    "\n",
    "#checking\n",
    "plt.imshow(test_x[1])\n",
    "plt.show\n",
    "\n",
    "print('Process Complete: Rotated and reversed test and train images!')"
   ]
  },
  {
   "cell_type": "code",
   "execution_count": 19,
   "id": "b1b22e39",
   "metadata": {},
   "outputs": [],
   "source": [
    "train_x = train_x.reshape(train_x.shape[0], 784,1)\n",
    "test_x = test_x.reshape(test_x.shape[0], 784,1)"
   ]
  },
  {
   "cell_type": "code",
   "execution_count": 21,
   "id": "e71e96c7",
   "metadata": {},
   "outputs": [
    {
     "ename": "IndentationError",
     "evalue": "unindent does not match any outer indentation level (<tokenize>, line 28)",
     "output_type": "error",
     "traceback": [
      "\u001b[0;36m  File \u001b[0;32m\"<tokenize>\"\u001b[0;36m, line \u001b[0;32m28\u001b[0m\n\u001b[0;31m    kernel_constraint=maxnorm(3)))\u001b[0m\n\u001b[0m    ^\u001b[0m\n\u001b[0;31mIndentationError\u001b[0m\u001b[0;31m:\u001b[0m unindent does not match any outer indentation level\n"
     ]
    }
   ],
   "source": [
    "def resh(ipar):\n",
    "    opar = []\n",
    "    for image in ipar:\n",
    "        opar.append(image.reshape(-1))\n",
    "    return np.asarray(opar)\n",
    "\n",
    "\n",
    "train_images = X_train.astype('float32')\n",
    "test_images = X_test.astype('float32')\n",
    "\n",
    "train_images = resh(train_images)\n",
    "test_images = resh(test_images)\n",
    "\n",
    "\n",
    "train_labels = np_utils.to_categorical(y_train, 62)\n",
    "test_labels = np_utils.to_categorical(y_test, 62)\n",
    "\n",
    "\n",
    "K.set_learning_phase(1)\n",
    "\n",
    "model = Sequential()\n",
    "\n",
    "model.add(Reshape((28,28,1), input_shape=(784,)))\n",
    "\n",
    "#add the layer below for an accuracy of 89%.(Training time - over 20 hours)\n",
    "#model.add(Convolution2D(32, (5,5), input_shape=(28,28,1),\n",
    "#                              activation='relu',padding='same',\n",
    "#                             kernel_constraint=maxnorm(3)))\n",
    "model.add(Convolution2D(32, (5,5),activation='relu'))\n",
    "\n",
    "model.add(MaxPooling2D(pool_size=(2,2)))\n"
   ]
  },
  {
   "cell_type": "code",
   "execution_count": null,
   "id": "b503ed2d",
   "metadata": {},
   "outputs": [],
   "source": []
  }
 ],
 "metadata": {
  "kernelspec": {
   "display_name": "Python 3",
   "language": "python",
   "name": "python3"
  },
  "language_info": {
   "codemirror_mode": {
    "name": "ipython",
    "version": 3
   },
   "file_extension": ".py",
   "mimetype": "text/x-python",
   "name": "python",
   "nbconvert_exporter": "python",
   "pygments_lexer": "ipython3",
   "version": "3.8.5"
  }
 },
 "nbformat": 4,
 "nbformat_minor": 5
}
