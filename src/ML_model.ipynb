{
 "cells": [
  {
   "cell_type": "code",
   "execution_count": 1,
   "metadata": {},
   "outputs": [],
   "source": [
    "import gzip\n",
    "import matplotlib.pyplot as plt\n",
    "import numpy as np\n",
    "import struct\n",
    "import os\n",
    "import random\n",
    "import tensorflow as tf\n",
    "import keras\n",
    "import keras.utils\n",
    "from keras.models import load_model\n",
    "from keras.models import Sequential\n",
    "from keras.layers import Dense, Flatten\n",
    "from keras.callbacks import TensorBoard\n",
    "from keras import backend\n",
    "import cv2 as cv\n",
    "\n",
    "%matplotlib inline"
   ]
  },
  {
   "cell_type": "code",
   "execution_count": 9,
   "metadata": {},
   "outputs": [],
   "source": [
    "## Load Data"
   ]
  },
  {
   "cell_type": "code",
   "execution_count": 2,
   "metadata": {},
   "outputs": [],
   "source": [
    "dataset_path = '/home/swopnil/PycharmProjects/HandwritingRecognition/gzip/'\n",
    "log_path = '/home/swopnil/PycharmProjects/HandwritingRecognition/logs/'"
   ]
  },
  {
   "cell_type": "code",
   "execution_count": 3,
   "metadata": {},
   "outputs": [],
   "source": [
    "def read_idx(filename):\n",
    "    print(f'Processing data from {filename}.')\n",
    "    with gzip.open(filename, 'rb') as f:\n",
    "        z, dtype, dim = struct.unpack('>HBB', f.read(4))\n",
    "        print(f'Dimensions: {dim}')\n",
    "        shape = tuple(struct.unpack('>I', f.read(4))[0] for d in range(dim))\n",
    "        print(f'Shape: {shape}')\n",
    "        return np.frombuffer(f.read(), dtype=np.uint8).reshape(shape)"
   ]
  },
  {
   "cell_type": "code",
   "execution_count": 4,
   "metadata": {},
   "outputs": [],
   "source": [
    "def load_emnist():\n",
    "    train_images = dataset_path + 'emnist-letters-train-images-idx3-ubyte.gz'\n",
    "    train_labels = dataset_path + 'emnist-letters-train-labels-idx1-ubyte.gz'\n",
    "    test_images = dataset_path + 'emnist-letters-test-images-idx3-ubyte.gz'\n",
    "    test_labels = dataset_path + 'emnist-letters-test-labels-idx1-ubyte.gz'\n",
    "    train_x = read_idx(train_images)\n",
    "    train_y = read_idx(train_labels)\n",
    "    test_x = read_idx(test_images)\n",
    "    test_y = read_idx(test_labels)\n",
    "    return (train_x, train_y, test_x, test_y)"
   ]
  },
  {
   "cell_type": "code",
   "execution_count": 5,
   "metadata": {
    "scrolled": true
   },
   "outputs": [
    {
     "name": "stdout",
     "output_type": "stream",
     "text": [
      "Processing data from /home/swopnil/PycharmProjects/HandwritingRecognition/gzip/emnist-letters-train-images-idx3-ubyte.gz.\n",
      "Dimensions: 3\n",
      "Shape: (124800, 28, 28)\n",
      "Processing data from /home/swopnil/PycharmProjects/HandwritingRecognition/gzip/emnist-letters-train-labels-idx1-ubyte.gz.\n",
      "Dimensions: 1\n",
      "Shape: (124800,)\n",
      "Processing data from /home/swopnil/PycharmProjects/HandwritingRecognition/gzip/emnist-letters-test-images-idx3-ubyte.gz.\n",
      "Dimensions: 3\n",
      "Shape: (20800, 28, 28)\n",
      "Processing data from /home/swopnil/PycharmProjects/HandwritingRecognition/gzip/emnist-letters-test-labels-idx1-ubyte.gz.\n",
      "Dimensions: 1\n",
      "Shape: (20800,)\n"
     ]
    }
   ],
   "source": [
    "raw_train_x, raw_train_y, raw_test_x, raw_test_y = load_emnist()"
   ]
  },
  {
   "cell_type": "code",
   "execution_count": 6,
   "metadata": {},
   "outputs": [],
   "source": [
    "labels = 'abcdefghijklmnopqrstuvwxyz'"
   ]
  },
  {
   "cell_type": "code",
   "execution_count": 7,
   "metadata": {},
   "outputs": [],
   "source": [
    "raw_train_x = np.array(raw_train_x)\n",
    "raw_train_y = np.array(raw_train_y)\n",
    "raw_test_x = np.array(raw_test_x)\n",
    "raw_test_y = np.array(raw_test_y)"
   ]
  },
  {
   "cell_type": "code",
   "execution_count": 8,
   "metadata": {},
   "outputs": [
    {
     "name": "stdout",
     "output_type": "stream",
     "text": [
      "q\n"
     ]
    },
    {
     "data": {
      "image/png": "[encoded data removed]",
      "text/plain": [
       "<Figure size 432x288 with 2 Axes>"
      ]
     },
     "metadata": {
      "needs_background": "light"
     },
     "output_type": "display_data"
    }
   ],
   "source": [
    "img_num = 30\n",
    "plt.imshow(raw_train_x[img_num].T)\n",
    "print(labels[raw_train_y[img_num] - 1])\n",
    "plt.colorbar()\n",
    "plt.show()"
   ]
  },
  {
   "cell_type": "code",
   "execution_count": 9,
   "metadata": {},
   "outputs": [],
   "source": [
    "## Prepare data"
   ]
  },
  {
   "cell_type": "code",
   "execution_count": 9,
   "metadata": {},
   "outputs": [
    {
     "name": "stdout",
     "output_type": "stream",
     "text": [
      "train_x shape: (124800, 28, 28)\n",
      "train_y shape: (124800,)\n",
      "test_x shape: (20800, 28, 28)\n",
      "test_y shape: (20800,)\n"
     ]
    }
   ],
   "source": [
    "print(f'train_x shape: {raw_train_x.shape}')\n",
    "print(f'train_y shape: {raw_train_y.shape}')\n",
    "print(f'test_x shape: {raw_test_x.shape}')\n",
    "print(f'test_y shape: {raw_test_y.shape}')"
   ]
  },
  {
   "cell_type": "code",
   "execution_count": 10,
   "metadata": {},
   "outputs": [
    {
     "name": "stdout",
     "output_type": "stream",
     "text": [
      "784\n"
     ]
    }
   ],
   "source": [
    "img_height = len(raw_train_x[0])\n",
    "img_width = len(raw_train_x[1])\n",
    "input_shape = img_height * img_width\n",
    "print(input_shape)"
   ]
  },
  {
   "cell_type": "code",
   "execution_count": 11,
   "metadata": {},
   "outputs": [
    {
     "name": "stdout",
     "output_type": "stream",
     "text": [
      "124800\n",
      "(28, 28)\n",
      "(28, 28)\n"
     ]
    }
   ],
   "source": [
    "train_x = raw_train_x.reshape(len(raw_train_x), 28, 28)\n",
    "print(len(raw_train_x))\n",
    "print(train_x[20].shape)\n",
    "test_x = raw_test_x.reshape(len(raw_test_x), 28, 28)\n",
    "print(test_x[20].shape)"
   ]
  },
  {
   "cell_type": "code",
   "execution_count": 12,
   "metadata": {},
   "outputs": [
    {
     "name": "stdout",
     "output_type": "stream",
     "text": [
      "Process Complete: Rotated and reversed test and train images!\n"
     ]
    },
    {
     "data": {
      "image/png": "[encoded data removed]",
      "text/plain": [
       "<Figure size 432x288 with 1 Axes>"
      ]
     },
     "metadata": {
      "needs_background": "light"
     },
     "output_type": "display_data"
    }
   ],
   "source": [
    "#for train data\n",
    "for t in range(124800):\n",
    "    train_x[t]=np.transpose(train_x[t])\n",
    "    \n",
    "#checking\n",
    "plt.imshow(train_x[0])\n",
    "plt.show\n",
    "\n",
    "#for test data  \n",
    "for t in range(20800):\n",
    "    test_x[t]=np.transpose(test_x[t])\n",
    "\n",
    "#checking\n",
    "plt.imshow(test_x[1])\n",
    "plt.show\n",
    "\n",
    "print('Process Complete: Rotated and reversed test and train images!')"
   ]
  },
  {
   "cell_type": "code",
   "execution_count": 54,
   "metadata": {},
   "outputs": [],
   "source": [
    "## Normalize"
   ]
  },
  {
   "cell_type": "code",
   "execution_count": 13,
   "metadata": {},
   "outputs": [
    {
     "name": "stdout",
     "output_type": "stream",
     "text": [
      "float32\n"
     ]
    }
   ],
   "source": [
    "train_x = train_x.astype('float32')\n",
    "test_x = test_x.astype('float32')\n",
    "print(train_x.dtype)"
   ]
  },
  {
   "cell_type": "code",
   "execution_count": 14,
   "metadata": {},
   "outputs": [],
   "source": [
    "train_x /= 255\n",
    "test_x /= 255\n"
   ]
  },
  {
   "cell_type": "code",
   "execution_count": 15,
   "metadata": {},
   "outputs": [
    {
     "name": "stdout",
     "output_type": "stream",
     "text": [
      "q\n"
     ]
    },
    {
     "data": {
      "image/png": "[encoded data removed]",
      "text/plain": [
       "<Figure size 432x288 with 2 Axes>"
      ]
     },
     "metadata": {
      "needs_background": "light"
     },
     "output_type": "display_data"
    }
   ],
   "source": [
    "%matplotlib inline\n",
    "img_num = 30\n",
    "plt.imshow(train_x.reshape(len(train_x), 28, 28)[img_num])\n",
    "print(labels[raw_train_y[img_num] - 1])\n",
    "plt.colorbar()\n",
    "plt.show()"
   ]
  },
  {
   "cell_type": "code",
   "execution_count": 16,
   "metadata": {},
   "outputs": [
    {
     "name": "stdout",
     "output_type": "stream",
     "text": [
      "g\n"
     ]
    },
    {
     "data": {
      "image/png": "[encoded data removed]",
      "text/plain": [
       "<Figure size 432x288 with 2 Axes>"
      ]
     },
     "metadata": {
      "needs_background": "light"
     },
     "output_type": "display_data"
    }
   ],
   "source": [
    "%matplotlib inline\n",
    "img_num = 5000\n",
    "plt.imshow(raw_test_x.reshape(len(test_x), 28, 28)[img_num], cmap='gray')\n",
    "print(labels[raw_test_y[img_num] - 1])\n",
    "plt.colorbar()\n",
    "plt.show()"
   ]
  },
  {
   "cell_type": "code",
   "execution_count": 17,
   "metadata": {},
   "outputs": [],
   "source": [
    "labels = 'abcdefghijklmnopqrstuvwxyz'\n",
    "n_cat = len(labels) + 1"
   ]
  },
  {
   "cell_type": "code",
   "execution_count": 18,
   "metadata": {},
   "outputs": [],
   "source": [
    "train_y = tf.keras.utils.to_categorical(raw_train_y)\n",
    "test_y = tf.keras.utils.to_categorical(raw_test_y)\n"
   ]
  },
  {
   "cell_type": "code",
   "execution_count": 19,
   "metadata": {},
   "outputs": [
    {
     "name": "stdout",
     "output_type": "stream",
     "text": [
      "8\n",
      "[0. 0. 0. 0. 0. 0. 0. 0. 1. 0. 0. 0. 0. 0. 0. 0. 0. 0. 0. 0. 0. 0. 0. 0.\n",
      " 0. 0. 0.]\n"
     ]
    }
   ],
   "source": [
    "print(raw_train_y[2500])\n",
    "print(train_y[2500])"
   ]
  },
  {
   "cell_type": "code",
   "execution_count": 20,
   "metadata": {},
   "outputs": [
    {
     "name": "stdout",
     "output_type": "stream",
     "text": [
      "124800\n",
      "(784,)\n",
      "(784,)\n"
     ]
    }
   ],
   "source": [
    "train_x = raw_train_x.reshape(len(raw_train_x), input_shape)\n",
    "print(len(raw_train_x))\n",
    "print(train_x[20].shape)\n",
    "test_x = raw_test_x.reshape(len(raw_test_x), input_shape)\n",
    "print(test_x[20].shape)"
   ]
  },
  {
   "cell_type": "code",
   "execution_count": 19,
   "metadata": {},
   "outputs": [],
   "source": [
    "## Define and compile model"
   ]
  },
  {
   "cell_type": "code",
   "execution_count": 21,
   "metadata": {},
   "outputs": [],
   "source": [
    "model = keras.models.Sequential()\n",
    "model.add(Dense(64, input_dim=input_shape, activation='relu'))\n",
    "model.add(Dense(128, activation='relu'))\n",
    "model.add(Dense(128, activation='relu'))\n",
    "model.add(Dense(27, activation='softmax'))"
   ]
  },
  {
   "cell_type": "code",
   "execution_count": 22,
   "metadata": {},
   "outputs": [],
   "source": [
    "model.compile(loss='categorical_crossentropy', optimizer='adam', metrics=['accuracy'])"
   ]
  },
  {
   "cell_type": "code",
   "execution_count": 22,
   "metadata": {},
   "outputs": [],
   "source": [
    "## Train the model"
   ]
  },
  {
   "cell_type": "code",
   "execution_count": 23,
   "metadata": {},
   "outputs": [],
   "source": [
    "tensorboard = TensorBoard(log_dir=log_path, histogram_freq=0, write_graph=True)\n",
    "callbacks_list = [tensorboard]"
   ]
  },
  {
   "cell_type": "code",
   "execution_count": 24,
   "metadata": {},
   "outputs": [
    {
     "name": "stdout",
     "output_type": "stream",
     "text": [
      "Epoch 1/20\n",
      "2496/2496 [==============================] - 5s 2ms/step - loss: 3.5328 - accuracy: 0.3706 - val_loss: 1.0475 - val_accuracy: 0.6874\n",
      "Epoch 2/20\n",
      "2496/2496 [==============================] - 4s 2ms/step - loss: 0.9396 - accuracy: 0.7198 - val_loss: 0.8008 - val_accuracy: 0.7586\n",
      "Epoch 3/20\n",
      "2496/2496 [==============================] - 4s 2ms/step - loss: 0.7297 - accuracy: 0.7778 - val_loss: 0.6868 - val_accuracy: 0.7936\n",
      "Epoch 4/20\n",
      "2496/2496 [==============================] - 4s 2ms/step - loss: 0.6166 - accuracy: 0.8128 - val_loss: 0.5993 - val_accuracy: 0.8238\n",
      "Epoch 5/20\n",
      "2496/2496 [==============================] - 4s 2ms/step - loss: 0.5558 - accuracy: 0.8315 - val_loss: 0.5767 - val_accuracy: 0.8258\n",
      "Epoch 6/20\n",
      "2496/2496 [==============================] - 4s 2ms/step - loss: 0.5271 - accuracy: 0.8385 - val_loss: 0.5501 - val_accuracy: 0.8372\n",
      "Epoch 7/20\n",
      "2496/2496 [==============================] - 4s 2ms/step - loss: 0.4967 - accuracy: 0.8478 - val_loss: 0.5371 - val_accuracy: 0.8398\n",
      "Epoch 8/20\n",
      "2496/2496 [==============================] - 4s 2ms/step - loss: 0.4847 - accuracy: 0.8507 - val_loss: 0.5261 - val_accuracy: 0.8466\n",
      "Epoch 9/20\n",
      "2496/2496 [==============================] - 4s 2ms/step - loss: 0.4623 - accuracy: 0.8585 - val_loss: 0.5297 - val_accuracy: 0.8467\n",
      "Epoch 10/20\n",
      "2496/2496 [==============================] - 4s 2ms/step - loss: 0.4446 - accuracy: 0.8629 - val_loss: 0.5635 - val_accuracy: 0.8367\n",
      "Epoch 11/20\n",
      "2496/2496 [==============================] - 4s 2ms/step - loss: 0.4371 - accuracy: 0.8666 - val_loss: 0.5402 - val_accuracy: 0.8502\n",
      "Epoch 12/20\n",
      "2496/2496 [==============================] - 4s 2ms/step - loss: 0.4373 - accuracy: 0.8658 - val_loss: 0.5546 - val_accuracy: 0.8402\n",
      "Epoch 13/20\n",
      "2496/2496 [==============================] - 4s 2ms/step - loss: 0.4291 - accuracy: 0.8674 - val_loss: 0.5260 - val_accuracy: 0.8500\n",
      "Epoch 14/20\n",
      "2496/2496 [==============================] - 4s 2ms/step - loss: 0.4203 - accuracy: 0.8710 - val_loss: 0.5282 - val_accuracy: 0.8561\n",
      "Epoch 15/20\n",
      "2496/2496 [==============================] - 4s 2ms/step - loss: 0.4142 - accuracy: 0.8726 - val_loss: 0.5571 - val_accuracy: 0.8431\n",
      "Epoch 16/20\n",
      "2496/2496 [==============================] - 4s 2ms/step - loss: 0.4183 - accuracy: 0.8703 - val_loss: 0.5371 - val_accuracy: 0.8519\n",
      "Epoch 17/20\n",
      "2496/2496 [==============================] - 4s 2ms/step - loss: 0.4035 - accuracy: 0.8749 - val_loss: 0.5183 - val_accuracy: 0.8561\n",
      "Epoch 18/20\n",
      "2496/2496 [==============================] - 4s 2ms/step - loss: 0.4027 - accuracy: 0.8756 - val_loss: 0.5184 - val_accuracy: 0.8598\n",
      "Epoch 19/20\n",
      "2496/2496 [==============================] - 4s 2ms/step - loss: 0.3944 - accuracy: 0.8790 - val_loss: 0.5354 - val_accuracy: 0.8533\n",
      "Epoch 20/20\n",
      "2496/2496 [==============================] - 4s 2ms/step - loss: 0.3968 - accuracy: 0.8794 - val_loss: 0.5238 - val_accuracy: 0.8605\n"
     ]
    }
   ],
   "source": [
    "history = model.fit(train_x, train_y, validation_data=(test_x, test_y),epochs=20, batch_size=50, callbacks=callbacks_list)"
   ]
  },
  {
   "cell_type": "code",
   "execution_count": 25,
   "metadata": {},
   "outputs": [
    {
     "name": "stdout",
     "output_type": "stream",
     "text": [
      "dict_keys(['loss', 'accuracy', 'val_loss', 'val_accuracy'])\n"
     ]
    },
    {
     "name": "stderr",
     "output_type": "stream",
     "text": [
      "<ipython-input-25-b7118cfeb9f4>:10: MatplotlibDeprecationWarning: savefig() got unexpected keyword argument \"papertype\" which is no longer supported as of 3.3 and will become an error two minor releases later\n",
      "  plt.savefig('accuracy', dpi=500, facecolor='w', edgecolor='w',\n",
      "<ipython-input-25-b7118cfeb9f4>:10: MatplotlibDeprecationWarning: savefig() got unexpected keyword argument \"frameon\" which is no longer supported as of 3.3 and will become an error two minor releases later\n",
      "  plt.savefig('accuracy', dpi=500, facecolor='w', edgecolor='w',\n"
     ]
    },
    {
     "data": {
      "image/png": "[encoded data removed]",
      "text/plain": [
       "<Figure size 432x288 with 1 Axes>"
      ]
     },
     "metadata": {
      "needs_background": "light"
     },
     "output_type": "display_data"
    },
    {
     "name": "stderr",
     "output_type": "stream",
     "text": [
      "<ipython-input-25-b7118cfeb9f4>:23: MatplotlibDeprecationWarning: savefig() got unexpected keyword argument \"papertype\" which is no longer supported as of 3.3 and will become an error two minor releases later\n",
      "  plt.savefig('loss', dpi=500, facecolor='w', edgecolor='w',\n",
      "<ipython-input-25-b7118cfeb9f4>:23: MatplotlibDeprecationWarning: savefig() got unexpected keyword argument \"frameon\" which is no longer supported as of 3.3 and will become an error two minor releases later\n",
      "  plt.savefig('loss', dpi=500, facecolor='w', edgecolor='w',\n"
     ]
    },
    {
     "data": {
      "image/png": "[encoded data removed]",
      "text/plain": [
       "<Figure size 432x288 with 1 Axes>"
      ]
     },
     "metadata": {
      "needs_background": "light"
     },
     "output_type": "display_data"
    }
   ],
   "source": [
    "print(history.history.keys())\n",
    "# summarize history for accuracy\n",
    "plt.plot(history.history['accuracy'])\n",
    "plt.plot(history.history['val_accuracy'])\n",
    "plt.title('Model Accuracy')\n",
    "plt.ylabel('Accuracy')\n",
    "plt.xlabel('Epoch')\n",
    "plt.legend(['Train', 'Test'], loc='upper left')\n",
    "plt.grid()\n",
    "plt.savefig('accuracy', dpi=500, facecolor='w', edgecolor='w',\n",
    "        orientation='portrait', papertype=None, format=None,\n",
    "        transparent=False, bbox_inches=None, pad_inches=0.1,\n",
    "        frameon=None, metadata=None)\n",
    "plt.show()\n",
    "\n",
    "plt.plot(history.history['loss'])\n",
    "plt.plot(history.history['val_loss'])\n",
    "plt.title('Model loss')\n",
    "plt.ylabel('Loss')\n",
    "plt.xlabel('Epoch')\n",
    "plt.legend(['Train', 'Test'], loc='upper left')\n",
    "plt.grid()\n",
    "plt.savefig('loss', dpi=500, facecolor='w', edgecolor='w',\n",
    "        orientation='portrait', papertype=None, format=None,\n",
    "        transparent=False, bbox_inches=None, pad_inches=0.1,\n",
    "        frameon=None, metadata=None)\n",
    "plt.show()\n"
   ]
  },
  {
   "cell_type": "code",
   "execution_count": 54,
   "metadata": {},
   "outputs": [
    {
     "name": "stdout",
     "output_type": "stream",
     "text": [
      "650/650 [==============================] - 1s 843us/step - loss: 0.5987 - accuracy: 0.8589\n"
     ]
    }
   ],
   "source": [
    "results = model.evaluate(test_x, test_y)"
   ]
  },
  {
   "cell_type": "code",
   "execution_count": 55,
   "metadata": {},
   "outputs": [
    {
     "name": "stdout",
     "output_type": "stream",
     "text": [
      "59.86518859863281 85.88942289352417\n"
     ]
    }
   ],
   "source": [
    "print(results[0]*100, results[1]*100)"
   ]
  },
  {
   "cell_type": "code",
   "execution_count": 56,
   "metadata": {},
   "outputs": [
    {
     "name": "stdout",
     "output_type": "stream",
     "text": [
      "INFO:tensorflow:Assets written to: digits.model/assets\n"
     ]
    }
   ],
   "source": [
    "model.save('digits.model')"
   ]
  },
  {
   "cell_type": "code",
   "execution_count": 65,
   "metadata": {},
   "outputs": [],
   "source": [
    "english_letters = '0abcdefghijklmnopqrstuvwxyz'"
   ]
  },
  {
   "cell_type": "code",
   "execution_count": 67,
   "metadata": {},
   "outputs": [
    {
     "name": "stdout",
     "output_type": "stream",
     "text": [
      "[[0.0000000e+00 4.9953032e-03 8.9932677e-05 9.2694861e-01 3.3185410e-05\n",
      "  1.7106874e-02 7.4412902e-03 3.5907336e-02 4.8888388e-10 1.2311780e-04\n",
      "  7.1078148e-06 1.9923763e-04 2.2374266e-03 0.0000000e+00 5.9923183e-14\n",
      "  1.5749899e-03 2.2776275e-04 1.7075039e-05 1.2140346e-03 3.0745906e-04\n",
      "  1.2715283e-03 2.8216935e-04 0.0000000e+00 6.5423519e-25 5.0424963e-18\n",
      "  1.6498251e-06 1.3904803e-05]]\n",
      "prediction: c\n"
     ]
    },
    {
     "data": {
      "image/png": "[encoded data removed]",
      "text/plain": [
       "<Figure size 432x288 with 1 Axes>"
      ]
     },
     "metadata": {
      "needs_background": "light"
     },
     "output_type": "display_data"
    }
   ],
   "source": [
    "img = cv.imread('/home/swopnil/PycharmProjects/HandwritingRecognition/src/c.png')[:,:,0]\n",
    "plt.imshow(img)\n",
    "plt.show\n",
    "prediction = model.predict(img.reshape(1, 784))\n",
    "print(prediction)\n",
    "print(f'prediction: {english_letters[np.argmax(prediction)]}')"
   ]
  },
  {
   "cell_type": "code",
   "execution_count": 58,
   "metadata": {},
   "outputs": [
    {
     "name": "stdout",
     "output_type": "stream",
     "text": [
      "a\n"
     ]
    },
    {
     "data": {
      "image/png": "[encoded data removed]",
      "text/plain": [
       "<Figure size 432x288 with 2 Axes>"
      ]
     },
     "metadata": {
      "needs_background": "light"
     },
     "output_type": "display_data"
    }
   ],
   "source": [
    "img_num = 30\n",
    "plt.imshow(raw_test_x[img_num].T, cmap='gray')\n",
    "print(labels[raw_test_y[img_num] - 1])\n",
    "plt.colorbar()\n",
    "plt.show()"
   ]
  },
  {
   "cell_type": "code",
   "execution_count": 66,
   "metadata": {},
   "outputs": [
    {
     "name": "stdout",
     "output_type": "stream",
     "text": [
      "[  0   0   0   0   0   0   0   0   0   0   0   0   0   0   0   0   0   0\n",
      "   0   0   0   0   0   0   0   0   0   0   0   0   0   0   0   0   0   0\n",
      "   0   0   0   0   0   0   0   0   0   0   0   0   0   0   0   0   0   0\n",
      "   0   0   0   0   0   0   0   0   0   0   0   0   0   0   0   0   0   0\n",
      "   0   0   0   0   0   0   0   0   0   0   0   0   0   0   0   0   0   0\n",
      "   0   0   0   0   0   0   0   0   0   0   0   0   0   0   0   0   0   0\n",
      "   0   0   0   0   0   0   0   0   0   0   0   0   0   0   0   0   0   0\n",
      "   0   0   0   0   0   0   0   0   0   0   0   0   0   0   0   0   0   0\n",
      "   0   0   0   0   0   0   0   0   0   0   0   0   0   0   0   0   0   0\n",
      "   0   0   0   0   0   0   0   0   0   0   0   0   0   0   0   4  21  32\n",
      "  37  37  20   1   0   0   0   0   0   0   0   0   0   0   0   0   0   0\n",
      "   0   0   0   0   0   4  22 110 172 203 217 214 138  15   0   0   0   0\n",
      "   0   0   0   0   0   0   0   0   0   0   0   0   0  20  45 114 145 232\n",
      " 252 254 254 232  93   6   0   0   0   0   0   0   0   0   0   0   0   0\n",
      "   0   0   0   0   3  67 122 203 222 249 254 254 250 207  51   4   1   0\n",
      "   0   0   0   0   0   0   0   0   0   0   0   0   0   5  47 175 231 254\n",
      " 254 253 232 209 142 111 119  93  53  18   0   0   0   0   0   0   0   0\n",
      "   0   0   0   0   0  33 190 247 253 254 253 219  98  54  77 177 243 236\n",
      " 165  81   2   0   0   0   0   0   0   0   0   0   0   0   3  84 233 254\n",
      " 254 254 228 126  91 118 188 250 254 254 215 125   4   0   0   0   0   0\n",
      "   0   0   0   0   0   0  20 169 251 254 255 253 218 213 233 245 252 254\n",
      " 255 254 222 140   9   0   0   0   0   0   0   0   0   0   0   0  27 190\n",
      " 253 254 255 254 242 246 252 254 254 254 255 254 233 173  22   0   0   0\n",
      "   0   0   0   0   0   0   0   0   8 126 244 254 254 254 254 254 254 254\n",
      " 252 250 252 254 251 232 100  20   0   0   0   0   0   0   0   0   0   0\n",
      "   0  33 163 244 251 254 254 252 245 232 172 130 173 232 253 253 230 111\n",
      "   7   0   0   0   0   0   0   0   0   0   0   1  33 127 175 243 243 177\n",
      " 115  82  22   5  22 100 232 250 250 190 115  33   8   0   0   0   0   0\n",
      "   0   0   0   0   0  10  34 113 113  34   4   2   0   0   0  32 152 170\n",
      " 188 243 242 160  92  33   8   0   0   0   0   0   0   0   0   1   7  32\n",
      "  32   7   0   0   0   0   0  17  75  81 108 218 243 188 145 106  42   5\n",
      "   0   0   0   0   0   0   0   0   0   0   0   0   0   0   0   0   0   0\n",
      "   2   2   9  77 112  51  50 106 112  24   0   0   0   0   0   0   0   0\n",
      "   0   0   0   0   0   0   0   0   0   0   0   0   0   2   3   0   0   4\n",
      "  15   4   0   0   0   0   0   0   0   0   0   0   0   0   0   0   0   0\n",
      "   0   0   0   0   0   0   0   0   0   0   0   0   0   0   0   0   0   0\n",
      "   0   0   0   0   0   0   0   0   0   0   0   0   0   0   0   0   0   0\n",
      "   0   0   0   0   0   0   0   0   0   0   0   0   0   0   0   0   0   0\n",
      "   0   0   0   0   0   0   0   0   0   0   0   0   0   0   0   0   0   0\n",
      "   0   0   0   0   0   0   0   0   0   0   0   0   0   0   0   0   0   0\n",
      "   0   0   0   0   0   0   0   0   0   0   0   0   0   0   0   0   0   0\n",
      "   0   0   0   0   0   0   0   0   0   0   0   0   0   0   0   0   0   0\n",
      "   0   0   0   0   0   0   0   0   0   0   0   0   0   0   0   0   0   0\n",
      "   0   0   0   0   0   0   0   0   0   0]\n",
      "(784,)\n",
      "[[0.00000000e+00 0.00000000e+00 6.71541152e-20 2.56058176e-24\n",
      "  0.00000000e+00 0.00000000e+00 1.04721245e-29 1.00000000e+00\n",
      "  0.00000000e+00 0.00000000e+00 0.00000000e+00 0.00000000e+00\n",
      "  0.00000000e+00 0.00000000e+00 0.00000000e+00 2.19232669e-27\n",
      "  0.00000000e+00 2.88283327e-14 0.00000000e+00 9.74057077e-28\n",
      "  0.00000000e+00 0.00000000e+00 0.00000000e+00 0.00000000e+00\n",
      "  0.00000000e+00 0.00000000e+00 0.00000000e+00]]\n",
      "prediction: g\n"
     ]
    },
    {
     "data": {
      "image/png": "[encoded data removed]",
      "text/plain": [
       "<Figure size 432x288 with 1 Axes>"
      ]
     },
     "metadata": {
      "needs_background": "light"
     },
     "output_type": "display_data"
    }
   ],
   "source": [
    "print(test_x[0])\n",
    "print(test_x[0].shape)\n",
    "ik = test_x[0].reshape(28, 28)\n",
    "\n",
    "m = test_x[5000].reshape(28,28)\n",
    "plt.imshow(m)\n",
    "plt.show\n",
    "prediction = model.predict(test_x[5000].reshape(1,784))\n",
    "print(prediction)\n",
    "print(f'prediction: {english_letters[np.argmax(prediction)]}')"
   ]
  },
  {
   "cell_type": "code",
   "execution_count": 1,
   "metadata": {},
   "outputs": [],
   "source": [
    "## word segmentation "
   ]
  },
  {
   "cell_type": "code",
   "execution_count": 68,
   "metadata": {},
   "outputs": [
    {
     "name": "stdout",
     "output_type": "stream",
     "text": [
      "(89, 415, 3)\n",
      "(356, 2075, 3)\n"
     ]
    },
    {
     "data": {
      "text/plain": [
       "<matplotlib.image.AxesImage at 0x7f07ec4b0eb0>"
      ]
     },
     "execution_count": 68,
     "metadata": {},
     "output_type": "execute_result"
    },
    {
     "data": {
      "image/png": "[encoded data removed]",
      "text/plain": [
       "<Figure size 432x288 with 1 Axes>"
      ]
     },
     "metadata": {
      "needs_background": "light"
     },
     "output_type": "display_data"
    }
   ],
   "source": [
    "import cv2 as cv\n",
    "import numpy as np\n",
    "from matplotlib import pyplot as plt\n",
    "%matplotlib inline\n",
    "\n",
    "image = cv.imread('example.png')\n",
    "height, width, depth = image.shape\n",
    "print(image.shape)\n",
    "\n",
    "image = cv.resize(image, dsize=(width*5, height*4), interpolation=cv.INTER_CUBIC)\n",
    "print(image.shape)\n",
    "\n",
    "gray = cv.cvtColor(image,cv.COLOR_BGR2GRAY)\n",
    "ret,thresh = cv.threshold(gray,127,255,cv.THRESH_BINARY_INV)\n",
    "\n",
    "kernel = np.ones((5,5), np.uint8)\n",
    "img_dilation = cv.dilate(thresh, kernel, iterations=1)\n",
    "\n",
    "gsblur=cv.GaussianBlur(img_dilation,(5,5),0)\n",
    "\n",
    "ctrs, hier = cv.findContours(gsblur.copy(), cv.RETR_EXTERNAL, cv.CHAIN_APPROX_SIMPLE)\n",
    "m = list()\n",
    "#sort contours\n",
    "sorted_ctrs = sorted(ctrs, key=lambda ctr: cv.boundingRect(ctr)[0])\n",
    "pchl = list()\n",
    "dp = image.copy()\n",
    "for i, ctr in enumerate(sorted_ctrs):\n",
    "    # Get bounding box\n",
    "    x, y, w, h = cv.boundingRect(ctr)\n",
    "    cv.rectangle(dp,(x-10,y-10),( x + w + 10, y + h + 10 ),(90,0,255),9)\n",
    "plt.imshow(dp)"
   ]
  },
  {
   "cell_type": "code",
   "execution_count": null,
   "metadata": {},
   "outputs": [],
   "source": []
  },
  {
   "cell_type": "code",
   "execution_count": 63,
   "metadata": {},
   "outputs": [
    {
     "data": {
      "image/png": "[encoded data removed]",
      "text/plain": [
       "<Figure size 432x288 with 1 Axes>"
      ]
     },
     "metadata": {
      "needs_background": "light"
     },
     "output_type": "display_data"
    },
    {
     "name": "stdout",
     "output_type": "stream",
     "text": [
      "1\n"
     ]
    },
    {
     "data": {
      "image/png": "[encoded data removed]",
      "text/plain": [
       "<Figure size 432x288 with 1 Axes>"
      ]
     },
     "metadata": {
      "needs_background": "light"
     },
     "output_type": "display_data"
    },
    {
     "name": "stdout",
     "output_type": "stream",
     "text": [
      "2\n"
     ]
    },
    {
     "data": {
      "image/png": "[encoded data removed]",
      "text/plain": [
       "<Figure size 432x288 with 1 Axes>"
      ]
     },
     "metadata": {
      "needs_background": "light"
     },
     "output_type": "display_data"
    },
    {
     "name": "stdout",
     "output_type": "stream",
     "text": [
      "3\n",
      "Predicted String:abc\n"
     ]
    }
   ],
   "source": [
    "characters = '0abcdefghijklmnopqrstuvwxyz'\n",
    "prediction = list()\n",
    "predicted_word = ''\n",
    "\n",
    "for i, ctr in enumerate(sorted_ctrs):\n",
    "    # Get bounding box\n",
    "    x, y, w, h = cv.boundingRect(ctr)\n",
    "    # Getting ROI\n",
    "    roi = image[y-10:y+h+10, x-10:x+w+10]\n",
    "    roi = cv.resize(roi, dsize=(28,28), interpolation=cv.INTER_CUBIC)\n",
    "    roi = cv.cvtColor(roi,cv.COLOR_BGR2GRAY)\n",
    "    roi = cv.bitwise_not(roi)\n",
    "    plt.imshow(roi)\n",
    "    plt.show()\n",
    "    \n",
    "    roi = np.array(roi)\n",
    "    t = np.copy(roi)\n",
    "    t = t.reshape(1,784)\n",
    "    m.append(roi)\n",
    "    pred = model.predict(t)\n",
    "    pred = np.argmax(pred)\n",
    "    print(pred)\n",
    "    prediction.append(pred)\n",
    "    predicted_word += characters[pred]\n",
    "\n",
    "print(f'Predicted String:{predicted_word}')\n"
   ]
  }
 ],
 "metadata": {
  "kernelspec": {
   "display_name": "Python 3",
   "language": "python",
   "name": "python3"
  },
  "language_info": {
   "codemirror_mode": {
    "name": "ipython",
    "version": 3
   },
   "file_extension": ".py",
   "mimetype": "text/x-python",
   "name": "python",
   "nbconvert_exporter": "python",
   "pygments_lexer": "ipython3",
   "version": "3.8.5"
  }
 },
 "nbformat": 4,
 "nbformat_minor": 4
}
